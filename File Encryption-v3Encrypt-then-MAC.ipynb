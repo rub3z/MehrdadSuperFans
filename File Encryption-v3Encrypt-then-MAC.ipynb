{
 "cells": [
  {
   "cell_type": "markdown",
   "metadata": {},
   "source": [
    "## File Encryption/Decryption using AES and RSA\n",
    "\n",
    "This program utilizes the python hazmat cryptography library to encrypt and decrypt user files. The file will first be padded using PKCS7 to make sure the input to our encryption algorithm is the appropriate block size. CBC mode (AES) will then be used to encrypt a file of the user's choice. The encryption of a file is further enhanced with RSA encryption on the AES encryption key, and the program will also write the rsa public and private key to files. The output of the program will be a JSON object that contains the ciphertext, iv, RSA encrypted encryption key, and the file extension. The JSON object can then be read and then decrypted using the RSA private key to decrypt the encryption key and then using the encryption key to decrypt the ciphertext."
   ]
  },
  {
   "cell_type": "code",
   "execution_count": 1,
   "metadata": {
    "collapsed": true
   },
   "outputs": [],
   "source": [
    "# import the necessary libraries needed\n",
    "import os as os\n",
    "from cryptography.hazmat.primitives.ciphers import Cipher, algorithms, modes\n",
    "from cryptography.hazmat.primitives.asymmetric import rsa\n",
    "from cryptography.hazmat.primitives.asymmetric import padding as asymPadding\n",
    "from cryptography.hazmat.primitives import hashes\n",
    "from cryptography.hazmat.primitives import padding\n",
    "from cryptography.hazmat.primitives import serialization\n",
    "from cryptography.hazmat.backends import default_backend\n",
    "from cryptography.hazmat.primitives import hashes, hmac\n",
    "from PIL import Image\n",
    "import io\n",
    "import json\n",
    "import base64"
   ]
  },
  {
   "cell_type": "code",
   "execution_count": 2,
   "metadata": {
    "collapsed": true
   },
   "outputs": [],
   "source": [
    "# constants used for our encryption algorithm\n",
    "IV_LENGTH = 16\n",
    "KEY_LENGTH = 32\n",
    "BLOCK_SIZE = 128"
   ]
  },
  {
   "cell_type": "code",
   "execution_count": 3,
   "metadata": {
    "collapsed": true
   },
   "outputs": [],
   "source": [
    "def myEncryptMAC(message):\n",
    "    \"\"\"\n",
    "    Encrypts the message using CBC mode (AES).\n",
    "    \n",
    "    Arguments:\n",
    "    message -- stream of bytes the user wants to encrypt\n",
    "    \n",
    "    Return:\n",
    "    cipher -- The cipher text\n",
    "    iv -- the IV needed for decryption\n",
    "    key -- the key needed for decryption\n",
    "    \"\"\"\n",
    "    \n",
    "    # generate our key and iv\n",
    "    backend = default_backend()\n",
    "    iv = os.urandom(IV_LENGTH)\n",
    "    encryption_key = os.urandom(KEY_LENGTH)\n",
    "    integrity_key = os.urandom(KEY_LENGTH)\n",
    "    \n",
    "    # pad to approprate block size\n",
    "    padder = padding.PKCS7(BLOCK_SIZE).padder()\n",
    "    paddedMessage = padder.update(message)\n",
    "    paddedMessage += padder.finalize()\n",
    "    \n",
    "    # encrypt using CBC mode (AES)\n",
    "    cipher = Cipher(algorithms.AES(encryption_key), modes.CBC(iv), backend=backend)\n",
    "    encryptor = cipher.encryptor()\n",
    "    ct = encryptor.update(paddedMessage) + encryptor.finalize()\n",
    "    \n",
    "    # create tag of cipher using HMAC\n",
    "    tag = hmac.HMAC(integrity_key, hashes.SHA256(), backend=default_backend())\n",
    "    tag.update(ct)\n",
    "    tag = tag.finalize()\n",
    "    \n",
    "    return ct, iv, tag, encryption_key, integrity_key"
   ]
  },
  {
   "cell_type": "code",
   "execution_count": 4,
   "metadata": {
    "collapsed": true
   },
   "outputs": [],
   "source": [
    "def myFileEncryptMAC(filepath):\n",
    "    \"\"\"\n",
    "    Takes the file from the filepath specified by the user and encrypts the file. \n",
    "    \n",
    "    Arguments:\n",
    "    filepath -- Filepath for the file user wants to encrypt\n",
    "    \n",
    "    Return:\n",
    "    cipher -- The cipher text\n",
    "    iv -- the IV needed for decryption\n",
    "    key -- the key needed for decryption\n",
    "    fileType -- the file extension\n",
    "    \"\"\"\n",
    "    # read the file and convert it to bytes\n",
    "    file = open(filepath, \"rb\")\n",
    "    byte = bytes(file.read())\n",
    "    file.close()\n",
    "    \n",
    "    # encrypt the file\n",
    "    cipher, iv, tag, encryption_key, integrity_key = myEncryptMAC(byte)\n",
    "    extIndex = filepath.find('.')\n",
    "    fileType = filepath[extIndex+1:]\n",
    "    return cipher, iv, tag, encryption_key, integrity_key, fileType"
   ]
  },
  {
   "cell_type": "code",
   "execution_count": 5,
   "metadata": {
    "collapsed": true
   },
   "outputs": [],
   "source": [
    "def myRSAEncrypt(filepath):\n",
    "    \"\"\"\n",
    "    Takes the file from the filepath specified by the user and encrypts the file and also the encryption key. \n",
    "    \n",
    "    Arguments:\n",
    "    filepath -- Filepath for the file user wants to encrypt\n",
    "    \n",
    "    Return:\n",
    "    cipher -- The cipher text\n",
    "    iv -- the IV needed for decryption\n",
    "    RSAencryptedKey -- the RSA encrypted encryption key needed for decryption\n",
    "    fileType -- the file extension\n",
    "    \"\"\"\n",
    "    # Generate RSA private key and public key\n",
    "    private_key = rsa.generate_private_key(\n",
    "        public_exponent = 65537,\n",
    "        key_size = 2048,\n",
    "        backend=default_backend()\n",
    "    )\n",
    "    public_key = private_key.public_key()\n",
    "\n",
    "    # Write out RSA private key and public key to file using serialization\n",
    "    RSAprivateKey = private_key.private_bytes(\n",
    "        encoding=serialization.Encoding.PEM,\n",
    "        format=serialization.PrivateFormat.TraditionalOpenSSL,\n",
    "        encryption_algorithm=serialization.NoEncryption()\n",
    "    )\n",
    "    RSApublicKey = public_key.public_bytes(\n",
    "        encoding=serialization.Encoding.PEM,\n",
    "        format=serialization.PublicFormat.SubjectPublicKeyInfo,\n",
    "    )\n",
    "    \n",
    "    # Output the private key\n",
    "    rsaFile = open(\"RSAprivateKey.pem\", \"wb\")\n",
    "    rsaFile.write(RSAprivateKey)\n",
    "    rsaFile.close()\n",
    "    \n",
    "    # Output the public key\n",
    "    rsaFile = open(\"RSApublicKey.pem\", \"wb\")\n",
    "    rsaFile.write(RSApublicKey)\n",
    "    rsaFile.close()\n",
    "\n",
    "    # Encrypt our file of choice using myFileEncrypt()\n",
    "    cipher, iv, tag, encryption_key, integrity_key, fileType = myFileEncryptMAC(filepath)\n",
    "    \n",
    "    # concatenate encryption key and integrity key\n",
    "    enc_int_key_concat = encryption_key + integrity_key\n",
    "    \n",
    "    # Encrypt the encryption key using the RSA public key with OAEP\n",
    "    RSAencryptedCipher = public_key.encrypt(\n",
    "        enc_int_key_concat,\n",
    "        asymPadding.OAEP(\n",
    "            mgf=asymPadding.MGF1(algorithm=hashes.SHA256()),\n",
    "            algorithm=hashes.SHA256(),\n",
    "            label=None\n",
    "        )\n",
    "    )\n",
    "    \n",
    "    return cipher, iv, tag, RSAencryptedCipher, fileType"
   ]
  },
  {
   "cell_type": "code",
   "execution_count": 6,
   "metadata": {
    "collapsed": true
   },
   "outputs": [],
   "source": [
    "def myDecrypt(ciphertext, key, iv):\n",
    "    \"\"\"\n",
    "    Decrypts the message using CBC mode (AES).\n",
    "    \n",
    "    Arguments:\n",
    "    ciphertext -- The cipher text\n",
    "    iv -- the IV needed for decryption\n",
    "    key -- the key needed for decryption\n",
    "    \n",
    "    Return:\n",
    "    unpaddedMessage -- the original message\n",
    "    \"\"\"\n",
    "    # decrypt the file\n",
    "    backend = default_backend()\n",
    "    cipher = Cipher(algorithms.AES(key), modes.CBC(iv), backend=backend)\n",
    "    decryptor = cipher.decryptor()\n",
    "    decryptedMessage = decryptor.update(ciphertext) + decryptor.finalize()\n",
    "    \n",
    "    # unpad the file\n",
    "    unpadder = padding.PKCS7(BLOCK_SIZE).unpadder()\n",
    "    unpaddedMessage = unpadder.update(decryptedMessage)\n",
    "    \n",
    "    return unpaddedMessage"
   ]
  },
  {
   "cell_type": "code",
   "execution_count": 7,
   "metadata": {
    "collapsed": true
   },
   "outputs": [],
   "source": [
    "def myFileDecrypt(ciphertext, iv, key, fileType):\n",
    "    \"\"\"\n",
    "    Takes the file from the filepath specified by the user and decrypts the file. \n",
    "    \n",
    "    Arguments:\n",
    "    filepath -- The pathing for the file the user wants to decrypt\n",
    "    iv -- the IV needed for decryption\n",
    "    key -- the key needed for decryption\n",
    "    fileType -- the file extension\n",
    "    \"\"\"\n",
    "    decryptedFile = myDecrypt(ciphertext, key, iv)\n",
    "    image = Image.open(io.BytesIO(decryptedFile))\n",
    "    image.show()"
   ]
  },
  {
   "cell_type": "code",
   "execution_count": 8,
   "metadata": {
    "collapsed": true
   },
   "outputs": [],
   "source": [
    "def myRSADecrypt(ciphertext, rsaCipher, iv,tag, fileType, rsaPrivateKeyPath):\n",
    "    \"\"\"\n",
    "    Decrypts the ciphertext by first decrypting the encryption key cipher using the RSA private key,\n",
    "    then using the decrypted encryption key to decrypt the ciphertext.\n",
    "    \n",
    "    Arguments:\n",
    "    cipher -- The ciphertext\n",
    "    rsaCipher -- The ciphertext for the encryption key\n",
    "    iv -- the IV needed for decryption\n",
    "    tag -- the tag generated by MAC when hashing the cyphertext\n",
    "    fileType -- the extension for the type of the file being decrypted\n",
    "    rsaPrivateKeyPath -- the file pathing for the RSA private key\n",
    "    \n",
    "    Return:\n",
    "    message -- the original message\n",
    "    \"\"\"\n",
    "    \n",
    "    # read in the RSA private key\n",
    "    key_file = open(rsaPrivateKeyPath, \"rb\")\n",
    "    private_key = serialization.load_pem_private_key(\n",
    "        key_file.read(),\n",
    "        password=None,\n",
    "        backend=default_backend()\n",
    "    )\n",
    "    \n",
    "    # Decrypt the hash of the concatenated keys using the private key\n",
    "    concatKey = private_key.decrypt(\n",
    "        rsaCipher,\n",
    "        asymPadding.OAEP(\n",
    "            mgf=asymPadding.MGF1(algorithm=hashes.SHA256()),\n",
    "            algorithm=hashes.SHA256(),\n",
    "            label=None\n",
    "        )\n",
    "    )\n",
    "    \n",
    "    # get the encryption key from concatenated key\n",
    "    encryption_key = concatKey[:32]\n",
    "    \n",
    "    # get the integrity key from concatenated key\n",
    "    integrity_key = concatKey[32:]\n",
    "\n",
    "    # MAC Verification\n",
    "    verify = hmac.HMAC(integrity_key, hashes.SHA256(), backend=default_backend())\n",
    "    verify.update(ciphertext)\n",
    "    verify.verify(tag)\n",
    "    \n",
    "    myFileDecrypt(ciphertext, iv, encryption_key,fileType)"
   ]
  },
  {
   "cell_type": "code",
   "execution_count": 9,
   "metadata": {},
   "outputs": [
    {
     "name": "stdout",
     "output_type": "stream",
     "text": [
      "png\n"
     ]
    }
   ],
   "source": [
    "# Encrypt a file of the user's choice\n",
    "cipher, iv, tag, RSAencryptedCipher, fileType = myRSAEncrypt(\"test.png\")\n",
    "\n",
    "files = {\n",
    "    \"cipher\" : str(cipher),\n",
    "    \"iv\" : str(iv),\n",
    "    \"tag\": str(tag),\n",
    "    \"key\": str(RSAencryptedCipher),\n",
    "    \"ext\"  : fileType   \n",
    "}\n",
    "\n",
    "fileName = open(\"encrypt.json\", \"w\")\n",
    "jsonObject = json.dump(files,fileName)\n",
    "fileName.close()"
   ]
  },
  {
   "cell_type": "code",
   "execution_count": 10,
   "metadata": {},
   "outputs": [
    {
     "name": "stderr",
     "output_type": "stream",
     "text": [
      "C:\\Users\\piercingonez\\Anaconda3\\lib\\site-packages\\PIL\\Image.py:888: UserWarning: Palette images with Transparency   expressed in bytes should be converted to RGBA images\n",
      "  'to RGBA images')\n"
     ]
    }
   ],
   "source": [
    "# Decrypt the file of the user's choice\n",
    "fileName = open(\"encrypt.json\", \"r\")\n",
    "jsonObject = json.load(fileName)\n",
    "cipherTest = jsonObject[\"cipher\"]\n",
    "ivTest = jsonObject[\"iv\"]\n",
    "RSAencryptedKeyTest = jsonObject[\"key\"]\n",
    "fileTypeTest = jsonObject[\"ext\"]\n",
    "fileName.close()\n",
    "\n",
    "myRSADecrypt(cipher,RSAencryptedCipher, iv, tag, fileType, \"RSAprivateKey.pem\")"
   ]
  },
  {
   "cell_type": "code",
   "execution_count": 11,
   "metadata": {},
   "outputs": [],
   "source": [
    "def encryptEverythingInDirectory():\n",
    "    currentDirectory = os.getcwd()\n",
    "    filesList = os.listdir(currentDirectory)\n",
    "\n",
    "    for x in filesList:\n",
    "        if (not x.endswith('.ipynb') and not x.endswith('.pem') and not x.endswith('.json') and not x.endswith('.bytes')):\n",
    "            myRSAEncrypt(x)"
   ]
  },
  {
   "cell_type": "code",
   "execution_count": null,
   "metadata": {
    "collapsed": true
   },
   "outputs": [],
   "source": []
  }
 ],
 "metadata": {
  "kernelspec": {
   "display_name": "Python 3",
   "language": "python",
   "name": "python3"
  },
  "language_info": {
   "codemirror_mode": {
    "name": "ipython",
    "version": 3
   },
   "file_extension": ".py",
   "mimetype": "text/x-python",
   "name": "python",
   "nbconvert_exporter": "python",
   "pygments_lexer": "ipython3",
   "version": "3.6.2"
  }
 },
 "nbformat": 4,
 "nbformat_minor": 2
}
